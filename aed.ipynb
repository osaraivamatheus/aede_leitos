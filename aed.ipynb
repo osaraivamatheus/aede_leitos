{
 "cells": [
  {
   "cell_type": "markdown",
   "metadata": {},
   "source": [
    "# Bibliotecas necessárias"
   ]
  },
  {
   "cell_type": "code",
   "execution_count": null,
   "metadata": {},
   "outputs": [],
   "source": [
    "# pip install -r 'requirements.txt'\n",
    "\n",
    "# Bibliotecas necessarias\n",
    "from pysus.online_data.CNES import download #para baixar dados do datasus\n",
    "import pandas as pd #maninpulacao de dados\n",
    "from pandas.tseries.offsets import MonthEnd #transformacao de datas\n",
    "import geopandas as gpd #manipulacao de dados espaciais\n",
    "import numpy as np #para funcoes matematicas\n",
    "import statsmodels.api as sm # analise de varianca\n",
    "from statsmodels.formula.api import ols # regressao linear\n",
    "import seaborn as sns #para graficos\n",
    "import matplotlib.pyplot as plt #para graficos\n",
    "import os # acesso a arquivos do sistema\n",
    "import splot #plotar graficos espaciais\n",
    "import mapclassify as mc #personalisar graficos espaciais\n",
    "from libpysal.weights.contiguity import Queen #matriz de vizinhanda (I-MORAN)\n",
    "from esda import Moran, Moran_Local # Indices\n",
    "from splot.esda import plot_moran, moran_scatterplot, lisa_cluster, plot_local_autocorrelation #graficos espaciais\n",
    "\n",
    "\n",
    "# Funcao para deixar graficos mais bonitos\n",
    "def eixo_seta():\n",
    "    ax = plt.gca()\n",
    "    fig = plt.gcf()\n",
    "    for side in ['right','top']:\n",
    "        ax.spines[side].set_visible(False)"
   ]
  },
  {
   "cell_type": "markdown",
   "metadata": {},
   "source": [
    "# Carregamento e transformação nos dados\n",
    "\n",
    " Os dados utilizados são de domínio público e estão disponíveis no [servidor FTP do DataSUS](https://datasus.saude.gov.br/transferencia-de-arquivos/). Além disso, para fins de análises complementares foram utilizados também as seguintes fontes de dados:\n",
    "\n",
    "- malhas geográficas dos municípios goianienses. Fonte: [Instituto Brasileiro de Geografia e Estatística](https://www.ibge.gov.br/geociencias/organizacao-do-territorio/malhas-territoriais/15774-malhas.html?=&t=downloads)\n",
    "- dados de contaminação e mortes da Covid-19. Fonte: [COVID-19 Data Repository by the Center for Systems Science and Engineering (CSSE) at Johns Hopkins University](https://github.com/wcota/covid19br)\n"
   ]
  },
  {
   "cell_type": "markdown",
   "metadata": {},
   "source": [
    "## Tratamento da base principal: leitos no estado de Goiás"
   ]
  },
  {
   "cell_type": "code",
   "execution_count": null,
   "metadata": {},
   "outputs": [],
   "source": [
    "### DADOS DOS LEITOS DATASUS\n",
    "dfs = {}\n",
    "for ano in [2020,2021,2022]:\n",
    "    for mes in range(1,13):\n",
    "        nome = f\"{ano}_{mes}\"\n",
    "        if nome == '2022_12':\n",
    "            pass\n",
    "        else:\n",
    "            dfs[nome] = download('LT', state='GO', year=ano, month=mes)\n",
    "\n",
    "leitos = pd.concat(dfs.values())\n",
    "\n",
    "#Apenas colunas de interesse ao estudo\n",
    "tipos = {\n",
    "    \"CODUFMUN\": str,\n",
    "    \"COMPETEN\": str,\n",
    "    \"QT_EXIST\": \"int64\",\n",
    "    \"QT_CONTR\": \"int64\",\n",
    "    \"QT_SUS\": \"int64\",\n",
    "    \"QT_NSUS\": \"int64\"\n",
    "}\n",
    "\n",
    "leitos = leitos[list(tipos.keys())]\n",
    "\n",
    "for coluna, tipo in tipos.items():\n",
    "    leitos[coluna] = leitos[coluna].astype(tipo)\n",
    "\n",
    "\n",
    "leitos.rename(columns={\"CODUFMUN\": \"CD_MUN\"}, inplace=True) #padroniza nome de coluna\n",
    "\n",
    "# Padronizando competencia para o ultimo dia do mês\n",
    "leitos[\"COMPETEN\"] = pd.to_datetime(leitos[\"COMPETEN\"], format=\"%Y%m\") + MonthEnd(0)\n",
    "leitos['COMPETEN'] = leitos['COMPETEN'].dt.date \n",
    "leitos['COMPETEN'] = leitos['COMPETEN'].astype(str) #transforma novamente em string para realizar o merge\n",
    "leitos.head()"
   ]
  },
  {
   "cell_type": "markdown",
   "metadata": {},
   "source": [
    "## Dados de contaminação Covid-19"
   ]
  },
  {
   "cell_type": "code",
   "execution_count": null,
   "metadata": {},
   "outputs": [],
   "source": [
    "# DADOS COVID\n",
    "\n",
    "## Dados precisam ser baixados e extraidos antes da execucao deste bloco\n",
    "## link: https://github.com/wcota/covid19br/blob/master/cases-brazil-cities-time_2020.csv.gz\n",
    "## link: https://github.com/wcota/covid19br/blob/master/cases-brazil-cities-time_2021.csv.gz\n",
    "## link: https://github.com/wcota/covid19br/blob/master/cases-brazil-cities-time.csv.gz\n",
    "\n",
    "cols = [\n",
    "    \"date\",\n",
    "    \"ibgeID\",\n",
    "    \"newDeaths\",\n",
    "    \"deaths\",\n",
    "    \"newCases\",\n",
    "    \"totalCases\",\n",
    "    \"deaths_per_100k_inhabitants\",\n",
    "    \"totalCases_per_100k_inhabitants\",\n",
    "    \"deaths_by_totalCases\",\n",
    "]\n",
    "\n",
    "# Carregando arquivos baixados e extraidos\n",
    "cv_files = [cvd for cvd in os.listdir() if \"cases-brazil\" in cvd]\n",
    "bancos_covid = {}\n",
    "for banco in cv_files:\n",
    "    bancos_covid[banco] = pd.read_csv(banco, usecols=cols)\n",
    "\n",
    "# Concatenando arquivos\n",
    "covid = pd.concat(bancos_covid.values())\n",
    "\n",
    "# Tratando competencia\n",
    "covid[\"date\"] = pd.to_datetime(covid[\"date\"]) + MonthEnd(0)  # ultimo dia do mes\n",
    "covid[\"date\"] = covid[\"date\"].dt.date\n",
    "covid[\"date\"] = covid[\"date\"].astype(str)\n",
    "\n",
    "covid[\"ibgeID\"] = covid[\"ibgeID\"].astype(str)\n",
    "\n",
    "covid = covid.groupby([\"ibgeID\", \"date\"]).sum().reset_index()\n",
    "covid[\"deaths_by_totalCases\"] = (\n",
    "    covid[\"deaths_per_100k_inhabitants\"] / covid[\"totalCases_per_100k_inhabitants\"]\n",
    ")\n",
    "\n",
    "# Renomeando\n",
    "covid.rename(\n",
    "    columns={\n",
    "        \"ibgeID\": \"CD_MUN\",\n",
    "        \"deaths\": \"total_mortes\",\n",
    "        \"deaths_per_100k_inhabitants\": \"mortes_per_100k\",\n",
    "        \"totalCases_per_100k_inhabitants\": \"casos_per_100k\",\n",
    "        \"deaths_by_totalCases\": \"prob_momrte\",\n",
    "        \"date\": \"COMPETEN\",\n",
    "    },\n",
    "    inplace=True,\n",
    ")\n",
    "\n",
    "covid.head()"
   ]
  },
  {
   "cell_type": "markdown",
   "metadata": {},
   "source": [
    "# Carregamendo da malha geográfica dos municípios goianos"
   ]
  },
  {
   "cell_type": "code",
   "execution_count": null,
   "metadata": {},
   "outputs": [],
   "source": [
    "### MALHA GEOGRAFICA\n",
    "\n",
    "# Disponível em: https://www.ibge.gov.br/geociencias/organizacao-do-territorio/malhas-territoriais/15774-malhas.html?=&t=downloads\n",
    "go = gpd.read_file(\"GO_malha/GO_Municipios_2021.shp\")"
   ]
  },
  {
   "cell_type": "markdown",
   "metadata": {},
   "source": [
    "# Unindo bases"
   ]
  },
  {
   "cell_type": "code",
   "execution_count": null,
   "metadata": {},
   "outputs": [],
   "source": [
    "# Unindo malha com dados do covid pela chave Codigo Municipio\n",
    "df = go.merge(covid, on='CD_MUN', how='left')\n",
    "df.head()\n",
    "\n",
    "# Unindo bases \n",
    "df['CD_MUN'] = df['CD_MUN'].apply(lambda x: x[:-1]) #remove o digito para realizar o merge\n",
    "df = df.merge(leitos, on=['COMPETEN', 'CD_MUN'], how='right')\n",
    "df['COMPETEN'] = df['COMPETEN'].astype('datetime64') # transforma em data\n",
    "df.tail()\n"
   ]
  },
  {
   "cell_type": "markdown",
   "metadata": {},
   "source": [
    "# Análise exploratória de dados"
   ]
  },
  {
   "cell_type": "code",
   "execution_count": null,
   "metadata": {},
   "outputs": [],
   "source": [
    "fig, ax = plt.subplots(figsize=[16, 5])\n",
    "df_agg_competencia = df[\n",
    "    [\n",
    "        \"COMPETEN\",\n",
    "        \"newDeaths\",\n",
    "        \"total_mortes\",\n",
    "        \"newCases\",\n",
    "        \"totalCases\",\n",
    "        \"mortes_per_100k\",\n",
    "        \"casos_per_100k\",\n",
    "        \"prob_momrte\",\n",
    "        \"QT_EXIST\",\n",
    "        \"QT_CONTR\",\n",
    "        \"QT_SUS\",\n",
    "        \"QT_NSUS\",\n",
    "    ]\n",
    "].copy()\n",
    "\n",
    "# Agrupando valores por competência\n",
    "df_agg_competencia = df_agg_competencia.groupby(\"COMPETEN\").sum().reset_index()\n",
    "\n",
    "# Tranformando data wide para data long para facilitar o plot\n",
    "df_agg_competencia = df_agg_competencia.melt(id_vars=\"COMPETEN\", var_name=\"serie\", value_name=\"total\")\n",
    "\n",
    "# Definindo filtro\n",
    "inicio_pandemia = np.datetime64(\"2020-02-29\")\n",
    "\n",
    "# Para localizar e plotar ponto no grafico\n",
    "filt = df_agg_competencia[\"serie\"].isin([\"QT_SUS\", \"QT_NSUS\"])\n",
    "ymax = df_agg_competencia.loc[((df_agg_competencia[\"COMPETEN\"] == inicio_pandemia) & (filt)), \"total\"]\n",
    "\n",
    "# Grafico\n",
    "sns.lineplot(\n",
    "    x=\"COMPETEN\", y=\"total\", style=\"serie\", color=\"black\", data=df_agg_competencia[filt], ax=ax\n",
    ")\n",
    "plt.axvline(x=inicio_pandemia, ymax=0.9, ls=\"--\", color=\"red\")\n",
    "ax.set_xlabel(\"\")\n",
    "plt.legend([\"SUS\", \"NÃO SUS\"])\n",
    "plt.annotate(\"Primeiro caso \\n registrado\", xy=(inicio_pandemia, 13200))\n",
    "ax.set_ylabel(\"Quantidade de leitos SUS\")\n",
    "eixo_seta()\n"
   ]
  },
  {
   "cell_type": "code",
   "execution_count": null,
   "metadata": {},
   "outputs": [],
   "source": [
    "fig, ax = plt.subplots(1,1, figsize=[16,5])\n",
    "\n",
    "df_dist = df[['COMPETEN', 'QT_SUS', 'QT_NSUS']].groupby('COMPETEN').sum().reset_index()\n",
    "df_dist = df_dist.melt(id_vars='COMPETEN', value_name='total', var_name='serie')\n",
    "df_dist['ANO'] = df_dist['COMPETEN'].dt.year \n",
    "df_dist['serie'].replace({'QT_SUS':'SUS', 'QT_NSUS':'Não SUS'}, inplace=True)\n",
    "\n",
    "sns.boxplot(x='ANO', y='total', hue='serie', data=df_dist, ax=ax)\n",
    "\n",
    "eixo_seta()\n",
    "plt.legend(title='')\n",
    "ax.set_ylabel(\"Quantidade de leitos SUS\")\n",
    "ax.set_xlabel(\"\")\n",
    "plt.savefig('leitos_agg_boxplot.png',\n",
    "    dpi=200,\n",
    "    bbox_inches='tight',\n",
    "    pad_inches=.0,\n",
    ")"
   ]
  },
  {
   "cell_type": "code",
   "execution_count": null,
   "metadata": {},
   "outputs": [],
   "source": [
    "df_agg_contaminacao = df[['COMPETEN',\n",
    "       'newCases', 'totalCases']].groupby('COMPETEN').sum().reset_index()\n",
    "\n",
    "df_agg_contaminacao['newCases'] = df_agg_contaminacao['newCases'] / 1000000\n",
    "fig, ax = plt.subplots(figsize=[16,5])\n",
    "# sns.lineplot(x='COMPETEN', y='totalCases', data=df_agg_contaminacao)\n",
    "sns.lineplot(x='COMPETEN', y='newCases', color='black', data=df_agg_contaminacao)\n",
    "plt.xlabel(\"\")\n",
    "plt.ylabel(\"Casos novos registrados em milhões\")\n",
    "eixo_seta()\n",
    "plt.savefig('novos_casos.png',\n",
    "    dpi=200,\n",
    "    bbox_inches='tight',\n",
    "    pad_inches=.0,\n",
    ")"
   ]
  },
  {
   "cell_type": "markdown",
   "metadata": {},
   "source": [
    "## Análise de variância"
   ]
  },
  {
   "cell_type": "code",
   "execution_count": null,
   "metadata": {},
   "outputs": [],
   "source": [
    "# Analise de variancia\n",
    "\n",
    "## Selecionando dados\n",
    "df_anova = (\n",
    "    df[[\"COMPETEN\", \"QT_SUS\", \"QT_NSUS\"]]\n",
    "    .groupby(\"COMPETEN\")\n",
    "    .sum()\n",
    "    .reset_index()\n",
    "    .melt(id_vars=\"COMPETEN\", value_name=\"total\", var_name=\"serie\")\n",
    ")\n",
    "\n",
    "df_anova[\"COMPETEN\"] = df_anova[\"COMPETEN\"].dt.date\n",
    "df_anova[\"COMPETEN\"] = df_anova[\"COMPETEN\"].astype(str)\n",
    "\n",
    "model = ols(\"total ~ C(COMPETEN) + C(serie)\", data=df_anova).fit()\n",
    "anova_table = sm.stats.anova_lm(model, typ=2)\n",
    "anova_table\n",
    "\n",
    "# Teste Tukey para identificar diferenças\n",
    "# from statsmodels.stats.multicomp import pairwise_tukeyhsd\n",
    "\n",
    "# tukey = pairwise_tukeyhsd(\n",
    "#     endog=df_anova['total'], groups=df_anova['COMPETEN'], alpha=.05\n",
    "# )\n",
    "# tukey.summary()"
   ]
  },
  {
   "cell_type": "code",
   "execution_count": null,
   "metadata": {},
   "outputs": [],
   "source": [
    "# Correlação \n",
    "corr = df[['COMPETEN','newCases', 'QT_SUS', 'QT_NSUS']].groupby('COMPETEN').sum().reset_index()\n",
    "corr.replace({np.nan:0}, inplace=True)\n",
    "corr.set_index('COMPETEN', inplace=True)\n",
    "corr.corr().round(4)"
   ]
  },
  {
   "cell_type": "markdown",
   "metadata": {},
   "source": [
    "# Análise Exploratória de Dados Espaciais (AEDE)"
   ]
  },
  {
   "cell_type": "code",
   "execution_count": null,
   "metadata": {},
   "outputs": [],
   "source": [
    "# Segregação dos períodos\n",
    "segregacao = {\n",
    "    \"Julho/2020\": np.datetime64(\"2020-07-31\"),\n",
    "    \"Julho/2021\": np.datetime64(\"2021-07-31\"),\n",
    "    \"Julho/2022\": np.datetime64(\"2022-07-31\"),\n",
    "}\n",
    "\n",
    "fig, ax = plt.subplots(1, 3, figsize=[16, 5])\n",
    "\n",
    "for i, nome in enumerate(segregacao.items()):\n",
    "\n",
    "    # Filtra periodo \n",
    "    filt = df[\"COMPETEN\"] == nome[1]\n",
    "    if i < 2:\n",
    "        # Plota mapa sem legenda\n",
    "        df[filt].plot(\n",
    "            column=\"QT_EXIST\",\n",
    "            cmap=\"Blues\",\n",
    "            ax=ax[i],\n",
    "            scheme=\"quantiles\",\n",
    "            legend=False,\n",
    "            missing_kwds={\"color\": \"lightgrey\"},\n",
    "        )\n",
    "    else:\n",
    "        # Plota mapa com legenda\n",
    "        df[filt].plot(\n",
    "            column=\"QT_EXIST\",\n",
    "            cmap=\"Blues\",\n",
    "            ax=ax[i],\n",
    "            scheme=\"quantiles\",\n",
    "            legend=True,\n",
    "            missing_kwds={\"color\": \"lightgrey\"},\n",
    "        )\n",
    "    \n",
    "    # Corrige titulo e remove eixos\n",
    "    ax[i].set_title(nome[0])\n",
    "    ax[i].set_axis_off()\n",
    "\n",
    "leg = ax[2].get_legend()\n",
    "leg.set_bbox_to_anchor((1.3, 0.4))\n"
   ]
  },
  {
   "cell_type": "markdown",
   "metadata": {},
   "source": [
    "# Mapas LISA "
   ]
  },
  {
   "cell_type": "code",
   "execution_count": null,
   "metadata": {},
   "outputs": [],
   "source": [
    "# subselecionando malha\n",
    "go_lisa = go.copy()\n",
    "go_lisa['CD_MUN'] = go_lisa['CD_MUN'].apply(lambda x: x[:-1])\n",
    "go_lisa.head()"
   ]
  },
  {
   "cell_type": "code",
   "execution_count": null,
   "metadata": {},
   "outputs": [],
   "source": [
    "# Subselecionando dados e criando novo geo dataframe de interesse\n",
    "lisa_df = df[['CD_MUN', 'COMPETEN', 'QT_EXIST']].groupby(['CD_MUN', 'COMPETEN']).sum().reset_index()\n",
    "\n",
    "filt = lisa_df['COMPETEN']==np.datetime64(\"2020-07-31\")\n",
    "lisa_df = go_lisa.merge(lisa_df[filt], on='CD_MUN', how='right')\n",
    "w = Queen.from_dataframe(lisa_df, geom_col='geometry')\n",
    "w.transform = 'r'"
   ]
  },
  {
   "cell_type": "code",
   "execution_count": null,
   "metadata": {},
   "outputs": [],
   "source": [
    "# INDICE MORAN GLOBAL\n",
    "y = lisa_df['QT_EXIST'].values\n",
    "moran = Moran(y, w)\n",
    "moran.I "
   ]
  },
  {
   "cell_type": "code",
   "execution_count": null,
   "metadata": {},
   "outputs": [],
   "source": [
    "# valor-p \n",
    "moran.p_sim #REJEITA H0"
   ]
  },
  {
   "cell_type": "code",
   "execution_count": null,
   "metadata": {},
   "outputs": [],
   "source": []
  },
  {
   "cell_type": "code",
   "execution_count": null,
   "metadata": {},
   "outputs": [],
   "source": [
    "# Personalização de mapas LISA\n",
    "import matplotlib.lines as mlines\n",
    "aa = mlines.Line2D([0], [0], marker='o', color='w', markerfacecolor='#d7191c', markersize=12)\n",
    "ab = mlines.Line2D([0], [0], marker='o', color='w', markerfacecolor='#fdae61', markersize=12)\n",
    "ba = mlines.Line2D([0], [0], marker='o', color='w', markerfacecolor='#abd9e9', markersize=12)\n",
    "bb = mlines.Line2D([0], [0], marker='o', color='w', markerfacecolor='#2c7bb6', markersize=12)\n",
    "ns = mlines.Line2D([0], [0], marker='o', color='w', markerfacecolor='lightgrey', markersize=12)\n",
    "\n",
    "\n",
    "#legenda=['High-High', 'High-Low',  'Low-High','Low-Low', 'Not significant']\n",
    "legenda=['Alto-Alto', 'Alto-Baixo',  'Baixo-Alto', 'Baixo-Baixo', 'Não significativo']\n",
    "handles = [aa, ab, ba, bb,  ns]\n",
    "\n",
    "\n",
    "fig, ax = plt.subplots(1, 3, figsize=(16,5))\n",
    "\n",
    "segregacao = {\n",
    "\"Julho/2020\": np.datetime64('2020-07-31'), \n",
    "\"Julho/2021\": np.datetime64('2021-07-31'),\n",
    "\"Julho/2022\": np.datetime64('2022-07-31')\n",
    "}\n",
    "\n",
    "lisa_df = df[['CD_MUN', 'COMPETEN', 'QT_EXIST']].groupby(['CD_MUN', 'COMPETEN']).sum().reset_index()\n",
    "\n",
    "for i, mes in enumerate(segregacao.items()):\n",
    "\n",
    "    filt = lisa_df['COMPETEN']==mes[1]\n",
    "    lisa_for_w = go_lisa.merge(lisa_df[filt], on='CD_MUN', how='right')\n",
    "    w = Queen.from_dataframe(lisa_for_w, geom_col='geometry')\n",
    "    y = lisa_for_w['QT_EXIST'].values\n",
    "    w.transform = 'r'\n",
    "\n",
    "    lisa = Moran_Local(y, w)\n",
    "    lisa_cluster(lisa, lisa_for_w, p=0.05, ax=ax[i], legend=False)\n",
    "    ax[i].set_title(mes[0])\n",
    "    ax[i].set_axis_off()\n",
    "    ax[i].legend(handles=handles, labels=legenda, loc='upper right', bbox_to_anchor=(1.5, 1))"
   ]
  }
 ],
 "metadata": {
  "kernelspec": {
   "display_name": "Python 3 (ipykernel)",
   "language": "python",
   "name": "python3"
  },
  "language_info": {
   "codemirror_mode": {
    "name": "ipython",
    "version": 3
   },
   "file_extension": ".py",
   "mimetype": "text/x-python",
   "name": "python",
   "nbconvert_exporter": "python",
   "pygments_lexer": "ipython3",
   "version": "3.9.13"
  },
  "vscode": {
   "interpreter": {
    "hash": "1a68929e5389d678f912f4d24ca9608d1a7d4a92dc6b46581b2ccd3bbc191fe8"
   }
  }
 },
 "nbformat": 4,
 "nbformat_minor": 2
}
